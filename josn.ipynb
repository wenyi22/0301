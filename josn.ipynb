{
 "cells": [
  {
   "cell_type": "code",
   "execution_count": 2,
   "metadata": {},
   "outputs": [],
   "source": [
    "import json"
   ]
  },
  {
   "cell_type": "code",
   "execution_count": 3,
   "metadata": {},
   "outputs": [],
   "source": [
    "# 讀取 JSON 檔案\n",
    "def load_json_file(filename):\n",
    "    with open(filename, 'r', encoding='utf-8') as file:\n",
    "        data = json.load(file)\n",
    "    return data"
   ]
  },
  {
   "cell_type": "code",
   "execution_count": 5,
   "metadata": {},
   "outputs": [],
   "source": [
    "\n",
    "# 寫入 JSON 檔案\n",
    "def write_json_file(data, filename):\n",
    "    with open(filename, 'w', encoding='utf-8') as file:\n",
    "        json.dump(data, file, indent=4, ensure_ascii=False)"
   ]
  },
  {
   "cell_type": "code",
   "execution_count": null,
   "metadata": {},
   "outputs": [],
   "source": [
    "# 主程式\n",
    "def main():\n",
    "    # 讀取 JSON 檔案\n",
    "    filename = 'data.json'\n",
    "    json_data = load_json_file(filename)\n",
    "    \n",
    "    # 顯示讀取的 JSON 資料\n",
    "    print(\"讀取的 JSON 資料：\")\n",
    "    print(json_data)\n",
    "\n",
    "    # 修改資料\n",
    "    # 在這裡進行你需要的資料操作\n",
    "\n",
    "    # 寫入 JSON 檔案\n",
    "    new_filename = 'new_data.json'\n",
    "    write_json_file(json_data, new_filename)\n",
    "    print(f\"已將資料寫入至 {new_filename}\")\n",
    "\n",
    "if __name__ == \"__main__\":\n",
    "    main()"
   ]
  }
 ],
 "metadata": {
  "kernelspec": {
   "display_name": "Python 3",
   "language": "python",
   "name": "python3"
  },
  "language_info": {
   "codemirror_mode": {
    "name": "ipython",
    "version": 3
   },
   "file_extension": ".py",
   "mimetype": "text/x-python",
   "name": "python",
   "nbconvert_exporter": "python",
   "pygments_lexer": "ipython3",
   "version": "3.11.8"
  }
 },
 "nbformat": 4,
 "nbformat_minor": 2
}
